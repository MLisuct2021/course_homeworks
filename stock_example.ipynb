{
  "cells": [
    {
      "cell_type": "code",
      "execution_count": null,
      "metadata": {
        "id": "o8ApRHirYpBz"
      },
      "outputs": [],
      "source": [
        "import json\n",
        "import numpy as np\n",
        "import pandas as pd\n",
        "import gensim\n",
        "import seaborn as sns\n",
        "import matplotlib.pyplot as plt\n",
        "from sklearn.pipeline import Pipeline\n",
        "from sklearn.model_selection import train_test_split, cross_val_score, KFold\n",
        "from sklearn.linear_model import LogisticRegression\n",
        "from nltk import WordNetLemmatizer\n",
        "from sklearn.feature_extraction.text import TfidfVectorizer, CountVectorizer\n",
        "from sklearn.base import BaseEstimator, TransformerMixin\n",
        "from sklearn.metrics import accuracy_score\n",
        "from sklearn.ensemble import RandomForestClassifier"
      ]
    },
    {
      "cell_type": "code",
      "execution_count": null,
      "metadata": {
        "id": "-ycmXri-Zvei"
      },
      "outputs": [],
      "source": [
        "df = pd.read_csv(\"sample_data/stock_data.csv\")"
      ]
    },
    {
      "cell_type": "code",
      "execution_count": null,
      "metadata": {
        "id": "mQ2K-e1MaseA"
      },
      "outputs": [],
      "source": [
        "train, test = train_test_split(df, test_size=0.2, random_state=42)"
      ]
    },
    {
      "cell_type": "code",
      "execution_count": null,
      "metadata": {
        "id": "lyobrga9a22P"
      },
      "outputs": [],
      "source": [
        "train = train.loc[~train[\"Sentiment\"].isnull(), :]\n",
        "train = train.loc[~train[\"Text\"].isnull(), :]"
      ]
    },
    {
      "cell_type": "code",
      "execution_count": null,
      "metadata": {
        "colab": {
          "base_uri": "https://localhost:8080/"
        },
        "id": "OOHvzJj2enrq",
        "outputId": "6883f842-b79e-46be-f7ca-5ebaf6b5c5ca"
      },
      "outputs": [
        {
          "output_type": "execute_result",
          "data": {
            "text/plain": [
              "(4632, 2)"
            ]
          },
          "metadata": {},
          "execution_count": 8
        }
      ],
      "source": [
        "train.shape"
      ]
    },
    {
      "cell_type": "code",
      "execution_count": null,
      "metadata": {
        "id": "eafb9Y8Xa3rv"
      },
      "outputs": [],
      "source": [
        "train[\"Text\"] = train[\"Text\"].str.replace(r\"[\\W\\d]+\", \" \").str.strip().str.lower()\n",
        "test[\"Text\"] = test[\"Text\"].str.replace(r\"[\\W\\d]+\", \" \").str.strip().str.lower()"
      ]
    },
    {
      "cell_type": "code",
      "execution_count": null,
      "metadata": {
        "id": "XbMUa9KbbIIz"
      },
      "outputs": [],
      "source": [
        "lemmatizer = WordNetLemmatizer()"
      ]
    },
    {
      "cell_type": "code",
      "execution_count": null,
      "metadata": {
        "id": "mmoo8jAQcRcO"
      },
      "outputs": [],
      "source": [
        "train[\"Sentiment\"] = train[\"Sentiment\"].replace(-1, 0)\n",
        "test[\"Sentiment\"] = test[\"Sentiment\"].replace(-1, 0)"
      ]
    },
    {
      "cell_type": "code",
      "execution_count": null,
      "metadata": {
        "colab": {
          "base_uri": "https://localhost:8080/"
        },
        "id": "pxBQ8orDbyXg",
        "outputId": "78b6401e-f47a-4461-dcda-537320998c19"
      },
      "outputs": [
        {
          "output_type": "execute_result",
          "data": {
            "text/plain": [
              "4201    ove gnw calls are making me feel better about ...\n",
              "387     csn option trader buys of the jan call spread ...\n",
              "4385    people slag aap for cannibalization but samsun...\n",
              "5773    sensex opens points lower at nifty starts day ...\n",
              "2348    csod conf call ceo feeling good about our posi...\n",
              "Name: Text, dtype: object"
            ]
          },
          "metadata": {},
          "execution_count": 12
        }
      ],
      "source": [
        "train[\"Text\"].head()"
      ]
    },
    {
      "cell_type": "code",
      "execution_count": null,
      "metadata": {
        "id": "eycAdgwfb_xK"
      },
      "outputs": [],
      "source": [
        "pipe = Pipeline([\n",
        "    (\"vect\", TfidfVectorizer()),\n",
        "    (\"model\", LogisticRegression())\n",
        "])"
      ]
    },
    {
      "cell_type": "code",
      "execution_count": null,
      "metadata": {
        "id": "JAASadQsfn34"
      },
      "outputs": [],
      "source": [
        "train[\"Sentiment\"] = train[\"Sentiment\"].astype(np.uint8)"
      ]
    },
    {
      "cell_type": "code",
      "execution_count": null,
      "metadata": {
        "colab": {
          "base_uri": "https://localhost:8080/"
        },
        "id": "3M7ie-vOiDUA",
        "outputId": "9436448b-7695-4052-b16f-e5cca3940a6c"
      },
      "outputs": [
        {
          "output_type": "execute_result",
          "data": {
            "text/plain": [
              "Pipeline(steps=[('vect',\n",
              "                 TfidfVectorizer(binary=True, max_df=0.2, ngram_range=(1, 2),\n",
              "                                 norm=False, smooth_idf=False,\n",
              "                                 token_pattern='\\\\S+')),\n",
              "                ('model',\n",
              "                 LogisticRegression(C=1, l1_ratio=0.5, max_iter=5000,\n",
              "                                    penalty='elasticnet', solver='saga'))])"
            ]
          },
          "metadata": {},
          "execution_count": 15
        }
      ],
      "source": [
        "pipe.fit(train[\"Text\"], train[\"Sentiment\"])"
      ]
    },
    {
      "cell_type": "code",
      "execution_count": null,
      "metadata": {
        "id": "bboD6z3QcnA8"
      },
      "outputs": [],
      "source": [
        "predict_proba = pipe.predict_proba(test[\"Text\"])[:, 1]"
      ]
    },
    {
      "cell_type": "code",
      "execution_count": null,
      "metadata": {
        "colab": {
          "base_uri": "https://localhost:8080/"
        },
        "id": "ktDM4gwYfj08",
        "outputId": "21e7adcc-0a5f-4856-c123-1fb402209a0c"
      },
      "outputs": [
        {
          "output_type": "execute_result",
          "data": {
            "text/plain": [
              "0.7929249352890423"
            ]
          },
          "metadata": {},
          "execution_count": 17
        }
      ],
      "source": [
        "accuracy_score(test[\"Sentiment\"], predict_proba > 0.5)"
      ]
    },
    {
      "cell_type": "code",
      "execution_count": null,
      "metadata": {
        "id": "pZnaF3Oahic2",
        "colab": {
          "base_uri": "https://localhost:8080/"
        },
        "outputId": "35d4818e-5ef5-463a-c39c-9e68ff704d3d"
      },
      "outputs": [
        {
          "output_type": "stream",
          "name": "stderr",
          "text": [
            "/usr/local/lib/python3.7/dist-packages/sklearn/utils/deprecation.py:87: FutureWarning: Function get_feature_names is deprecated; get_feature_names is deprecated in 1.0 and will be removed in 1.2. Please use get_feature_names_out instead.\n",
            "  warnings.warn(msg, category=FutureWarning)\n"
          ]
        }
      ],
      "source": [
        "weights = pipe.named_steps['model'].coef_[0]\n",
        "sorted_idx = np.argsort(np.abs(weights))[::-1][:50]\n",
        "weights_best = weights[sorted_idx]\n",
        "features = pipe.named_steps['vect'].get_feature_names()\n",
        "features_best = np.array(features)[sorted_idx]"
      ]
    },
    {
      "cell_type": "code",
      "source": [
        "plt.figure(figsize=(16, 12))\n",
        "sns.barplot(weights_best, features_best)"
      ],
      "metadata": {
        "colab": {
          "base_uri": "https://localhost:8080/",
          "height": 772
        },
        "id": "hV94Nmld55XK",
        "outputId": "c4d8657d-7427-4112-fb01-854129b8e986"
      },
      "execution_count": null,
      "outputs": [
        {
          "output_type": "stream",
          "name": "stderr",
          "text": [
            "/usr/local/lib/python3.7/dist-packages/seaborn/_decorators.py:43: FutureWarning: Pass the following variables as keyword args: x, y. From version 0.12, the only valid positional argument will be `data`, and passing other arguments without an explicit keyword will result in an error or misinterpretation.\n",
            "  FutureWarning\n"
          ]
        },
        {
          "output_type": "execute_result",
          "data": {
            "text/plain": [
              "<matplotlib.axes._subplots.AxesSubplot at 0x7fa5dec075d0>"
            ]
          },
          "metadata": {},
          "execution_count": 27
        },
        {
          "output_type": "display_data",
          "data": {
            "image/png": "[encoded data removed]",
            "text/plain": [
              "<Figure size 1152x864 with 1 Axes>"
            ]
          },
          "metadata": {
            "needs_background": "light"
          }
        }
      ]
    },
    {
      "cell_type": "code",
      "source": [
        ""
      ],
      "metadata": {
        "id": "mWG4SMNr6S0i"
      },
      "execution_count": null,
      "outputs": []
    }
  ],
  "metadata": {
    "colab": {
      "name": "stock_example.ipynb",
      "provenance": [],
      "collapsed_sections": []
    },
    "kernelspec": {
      "display_name": "Python 3",
      "name": "python3"
    },
    "language_info": {
      "name": "python"
    }
  },
  "nbformat": 4,
  "nbformat_minor": 0
}